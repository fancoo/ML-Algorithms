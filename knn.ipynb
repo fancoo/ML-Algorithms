{
 "cells": [
  {
   "cell_type": "markdown",
   "metadata": {},
   "source": [
    "# KNN算法介绍"
   ]
  },
  {
   "cell_type": "markdown",
   "metadata": {},
   "source": [
    "## 1. 基本思想"
   ]
  },
  {
   "cell_type": "markdown",
   "metadata": {},
   "source": [
    "KNN算法的核心思想非常简单：在训练集中选取距离输入点最近的K个邻居，根据这K个邻居中出现次数最多的类别(最大表决规则)，作为该数据点的类别。"
   ]
  },
  {
   "cell_type": "markdown",
   "metadata": {},
   "source": [
    "## 2. 算法步骤"
   ]
  },
  {
   "cell_type": "markdown",
   "metadata": {},
   "source": [
    "对位置类别属性的数据集中的每个点依次执行以下操作：\n",
    "* 1）计算该点与所有已知类别的的点之间的距离；\n",
    "* 2）按照距离递减排序，选取前k个点；\n",
    "* 3）计算各类别在这k个点中出现的频率；\n",
    "* 4）返回出现最高频率的类别作为当前点的预测分类。"
   ]
  },
  {
   "cell_type": "markdown",
   "metadata": {},
   "source": [
    "## 3. 代码实例"
   ]
  },
  {
   "cell_type": "code",
   "execution_count": 76,
   "metadata": {
    "collapsed": true
   },
   "outputs": [],
   "source": [
    "from numpy import *"
   ]
  },
  {
   "cell_type": "code",
   "execution_count": 94,
   "metadata": {
    "collapsed": true
   },
   "outputs": [],
   "source": [
    "%matplotlib inline\n",
    "\n",
    "import matplotlib\n",
    "import numpy as np\n",
    "import matplotlib.pyplot as plt"
   ]
  },
  {
   "cell_type": "markdown",
   "metadata": {},
   "source": [
    "### 1. 数据准备"
   ]
  },
  {
   "cell_type": "markdown",
   "metadata": {},
   "source": [
    "原始数据集为4个已标注的样本点，如图所示。"
   ]
  },
  {
   "cell_type": "code",
   "execution_count": 97,
   "metadata": {
    "collapsed": false
   },
   "outputs": [
    {
     "data": {
      "image/png": "[encoded data removed]",
      "text/plain": [
       "<matplotlib.figure.Figure at 0x7d71320>"
      ]
     },
     "metadata": {},
     "output_type": "display_data"
    }
   ],
   "source": [
    "group =array([[9,400],[200,5],[100,77],[40,300]])  # 样本类\n",
    "labels = ['1','2','3','1']\n",
    "x = group[:, 0]\n",
    "y = group[:, 1]\n",
    "plt.scatter(x, y, c=labels)\n",
    "plt.show()"
   ]
  },
  {
   "cell_type": "markdown",
   "metadata": {},
   "source": [
    "待分类的点```inputPoint```如下所示，用(+）表示"
   ]
  },
  {
   "cell_type": "code",
   "execution_count": 134,
   "metadata": {
    "collapsed": false
   },
   "outputs": [
    {
     "data": {
      "image/png": "[encoded data removed]",
      "text/plain": [
       "<matplotlib.figure.Figure at 0x7fd9400>"
      ]
     },
     "metadata": {},
     "output_type": "display_data"
    }
   ],
   "source": [
    "inputPoint = (174, 4)\n",
    "plt.scatter(x, y, c=labels)\n",
    "plt.plot(inputPoint[0], inputPoint[1], '+')\n",
    "plt.show()"
   ]
  },
  {
   "cell_type": "markdown",
   "metadata": {},
   "source": [
    "### 2. 计算距离"
   ]
  },
  {
   "cell_type": "markdown",
   "metadata": {},
   "source": [
    "计算样本点inputPoint和所有原始点之间的距离。"
   ]
  },
  {
   "cell_type": "code",
   "execution_count": 135,
   "metadata": {
    "collapsed": false
   },
   "outputs": [
    {
     "name": "stdout",
     "output_type": "stream",
     "text": [
      "4\n"
     ]
    }
   ],
   "source": [
    "dataSetSize = group.shape[0]\n",
    "print dataSetSize"
   ]
  },
  {
   "cell_type": "code",
   "execution_count": 136,
   "metadata": {
    "collapsed": false
   },
   "outputs": [
    {
     "name": "stdout",
     "output_type": "stream",
     "text": [
      "[[ 165 -396]\n",
      " [ -26   -1]\n",
      " [  74  -73]\n",
      " [ 134 -296]]\n"
     ]
    }
   ],
   "source": [
    "diffMat = tile(inputPoint, (dataSetSize, 1)) - group  # 分别计算该点与样本x, y差值\n",
    "print diffMat"
   ]
  },
  {
   "cell_type": "code",
   "execution_count": 137,
   "metadata": {
    "collapsed": false
   },
   "outputs": [
    {
     "name": "stdout",
     "output_type": "stream",
     "text": [
      "[[ 27225 156816]\n",
      " [   676      1]\n",
      " [  5476   5329]\n",
      " [ 17956  87616]]\n"
     ]
    }
   ],
   "source": [
    "sqDiffMat = diffMat ** 2  # 计算方差\n",
    "print sqDiffMat"
   ]
  },
  {
   "cell_type": "code",
   "execution_count": 138,
   "metadata": {
    "collapsed": false
   },
   "outputs": [
    {
     "name": "stdout",
     "output_type": "stream",
     "text": [
      "[184041    677  10805 105572]\n"
     ]
    }
   ],
   "source": [
    "sqDistances = sqDiffMat.sum(axis=1)  # 距离平方和\n",
    "print sqDistances"
   ]
  },
  {
   "cell_type": "code",
   "execution_count": 139,
   "metadata": {
    "collapsed": false
   },
   "outputs": [
    {
     "name": "stdout",
     "output_type": "stream",
     "text": [
      "[ 429.           26.01922366  103.94710193  324.91845131]\n"
     ]
    }
   ],
   "source": [
    "distances = sqDistances ** 0.5  # 欧氏距离\n",
    "print distances"
   ]
  },
  {
   "cell_type": "code",
   "execution_count": 140,
   "metadata": {
    "collapsed": false
   },
   "outputs": [
    {
     "name": "stdout",
     "output_type": "stream",
     "text": [
      "[1 2 3 0]\n"
     ]
    }
   ],
   "source": [
    "sortedDistIndicies = distances.argsort()  # 距离排序\n",
    "print sortedDistIndicies"
   ]
  },
  {
   "cell_type": "markdown",
   "metadata": {},
   "source": [
    "### 3. 取前k个点"
   ]
  },
  {
   "cell_type": "markdown",
   "metadata": {},
   "source": [
    "选取距离最近的前k个点，获取其所属类别，并统计各个类别所占频率。"
   ]
  },
  {
   "cell_type": "code",
   "execution_count": 141,
   "metadata": {
    "collapsed": false
   },
   "outputs": [
    {
     "name": "stdout",
     "output_type": "stream",
     "text": [
      "[('2', 1)]\n"
     ]
    }
   ],
   "source": [
    "import operator\n",
    "# 选择距离最小的k个点\n",
    "classCount = {}\n",
    "k = 1\n",
    "for i in xrange(k):\n",
    "    voteLabel = labels[sortedDistIndicies[i]]\n",
    "    classCount[voteLabel] = classCount.get(voteLabel, 0) + 1\n",
    "sortedClassCount = sorted(classCount.items(), key = operator.itemgetter(1), reverse = True)\n",
    "print sortedClassCount"
   ]
  },
  {
   "cell_type": "markdown",
   "metadata": {},
   "source": [
    "### 4. 返回出现频率最高的类别"
   ]
  },
  {
   "cell_type": "markdown",
   "metadata": {},
   "source": [
    "以出现频率最高的类别作为该inputPoint的类别。"
   ]
  },
  {
   "cell_type": "code",
   "execution_count": 142,
   "metadata": {
    "collapsed": false
   },
   "outputs": [
    {
     "name": "stdout",
     "output_type": "stream",
     "text": [
      "2\n"
     ]
    }
   ],
   "source": [
    "print sortedClassCount[0][0]"
   ]
  }
 ],
 "metadata": {
  "kernelspec": {
   "display_name": "Python 2",
   "language": "python",
   "name": "python2"
  },
  "language_info": {
   "codemirror_mode": {
    "name": "ipython",
    "version": 2
   },
   "file_extension": ".py",
   "mimetype": "text/x-python",
   "name": "python",
   "nbconvert_exporter": "python",
   "pygments_lexer": "ipython2",
   "version": "2.7.11"
  }
 },
 "nbformat": 4,
 "nbformat_minor": 0
}
